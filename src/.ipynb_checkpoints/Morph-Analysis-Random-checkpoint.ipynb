{
 "cells": [
  {
   "cell_type": "code",
   "execution_count": 1,
   "id": "26620e51",
   "metadata": {},
   "outputs": [],
   "source": [
    "import pickle\n",
    "import math\n",
    "import numpy as np\n",
    "import matplotlib.pyplot as plt\n",
    "#import scipy.stats as stats"
   ]
  },
  {
   "cell_type": "code",
   "execution_count": 2,
   "id": "d10ab063",
   "metadata": {},
   "outputs": [],
   "source": [
    "with open(f'pickle/faceflips.pkl', 'rb') as f:\n",
    "    random_faceflips = pickle.load(f)\n",
    "with open(f'pickle/styleflips.pkl', 'rb') as f:\n",
    "    random_styleflips = pickle.load(f)\n",
    "with open(f'pickle/alldistances.pkl', 'rb') as f:\n",
    "    random_alldistances = pickle.load(f)\n",
    "with open(f'pickle/allcrossings.pkl', 'rb') as f:\n",
    "    random_allcrossings = pickle.load(f)"
   ]
  },
  {
   "cell_type": "code",
   "execution_count": 10,
   "id": "0e067acb",
   "metadata": {},
   "outputs": [],
   "source": [
    "strategies=['octoradial','portByAngle','hausdorff','hausdorffspoke','hausdorffcirc','uniform','uniformspoke','uniformcirc','oneBend']\n",
    "alllabels=['octoradial','portByAngle','frechet','frechetspoke','frechetcirc','uniform','uniformspoke','uniformcirc','oneBend']\n",
    "benchmarks=['alongEdges','alongFaces']\n",
    "numberOfGraphs=100\n",
    "benchmarksymbols=['s','o']\n",
    "turquois = '#5ce3cd'\n",
    "darkblue = '#22008a'\n",
    "orange = '#f7a61f'\n",
    "darkred = '#840013'\n",
    "\n",
    "thecolors = ['grey','black']"
   ]
  },
  {
   "cell_type": "code",
   "execution_count": 4,
   "id": "12c9fcf9",
   "metadata": {},
   "outputs": [],
   "source": [
    "### manually set the styleflips of octoradial to 0 as those are measured but are not real flips\n",
    "for j in range(len(benchmarks)):\n",
    "    benchmark = benchmarks[j]\n",
    "    for i in range(numberOfGraphs):\n",
    "        random_styleflips[i][\"octoradial_Randomgraph\"+str(i).zfill(3)+\"_\"+benchmark] = [0]"
   ]
  },
  {
   "cell_type": "code",
   "execution_count": 11,
   "id": "7329cf0f",
   "metadata": {},
   "outputs": [],
   "source": [
    "def boxplotparameter(variable,label=\"unnamed\",title=\"Unnamed\",ymin=-1,ymax=-1):\n",
    "    \n",
    "    labels = []\n",
    "    for label in alllabels:\n",
    "        labels= labels+ [label,'']\n",
    "    boxcolors = thecolors*len(strategies)\n",
    "    outliercolors = ['r']\n",
    "    \n",
    "    plt.figure(figsize=(8,4))\n",
    "    positions =[]\n",
    "    for i in range(9):\n",
    "        positions=positions+[i*3,i*3+1]\n",
    "    \n",
    "    data = []\n",
    "    for h in range(len(strategies)):\n",
    "        strategy = strategies[h]\n",
    "        for j in range(len(benchmarks)):\n",
    "            benchmark = benchmarks[j]\n",
    "            symbol = benchmarksymbols[j]\n",
    "            varValue = []\n",
    "            variableListofDicts = globals()[\"random_\"+variable]\n",
    "            for i in range(numberOfGraphs):\n",
    "                variableDictionary = variableListofDicts[i]\n",
    "                varValue += variableDictionary[strategy+\"_Randomgraph\"+str(i).zfill(3)+\"_\"+benchmark]\n",
    "            varValue = np.array(varValue).flatten()\n",
    "            data.append(varValue)\n",
    "            \n",
    "    bplt = plt.boxplot(data,\n",
    "                notch=True,  # notch shape\n",
    "                vert=True,  # vertical box alignment\n",
    "                #sym='.',\n",
    "                patch_artist=True,  # fill with color\n",
    "                labels=labels, # will be used to label x-ticks\n",
    "                showfliers=False, #if we want to suppress fliers\n",
    "                positions=positions)  \n",
    "    ##colors\n",
    "    for patch, boxcolor in zip(bplt['boxes'], boxcolors):\n",
    "            patch.set_facecolor(boxcolor)\n",
    "    ##colors\n",
    "    for fliers, boxcolor in zip(bplt['fliers'], boxcolors):\n",
    "            fliers.set_markerfacecolor(boxcolor)\n",
    "            fliers.set_marker('.')\n",
    "    ##grid lines\n",
    "    plt.grid(axis='y')\n",
    "    plt.xlabel(\"strategy\")\n",
    "    plt.ylabel(label)\n",
    "    plt.xticks(rotation=45)\n",
    "            \n",
    "    #if (not ymin==-1) and (not ymax==-1):\n",
    "    #    plt.ylim(ymin,ymax)\n",
    "    #plt.plot(strategies ...)\n",
    "    #plt.ylim(0.0, 10.0) #Wie geht y-Achse?\n",
    "    #plt.xticks(strategies)\n",
    "    #plt.title(title)\n",
    "    #plt.legend(loc='upper left');\n",
    "    #plt.legend();\n",
    "    #plt.xlabel('strategy')\n",
    "    #plt.ylabel(label)\n",
    "    #plt.grid()\n",
    "\n",
    "    plt.tight_layout()\n",
    "    plt.savefig(\"PLOTS/\"+variable+\"_Random_Plot.pdf\")\n",
    "    plt.show()\n",
    "    return"
   ]
  },
  {
   "cell_type": "code",
   "execution_count": 12,
   "id": "db9e494d",
   "metadata": {},
   "outputs": [
    {
     "ename": "NameError",
     "evalue": "name 'alllabels' is not defined",
     "output_type": "error",
     "traceback": [
      "\u001b[1;31m---------------------------------------------------------------------------\u001b[0m",
      "\u001b[1;31mNameError\u001b[0m                                 Traceback (most recent call last)",
      "\u001b[1;32m<ipython-input-12-27b118631dd7>\u001b[0m in \u001b[0;36m<module>\u001b[1;34m\u001b[0m\n\u001b[0;32m      2\u001b[0m \u001b[1;31m#boxplotparameter(\"faceflips\",\"face flips\",\"Number of face flips\")\u001b[0m\u001b[1;33m\u001b[0m\u001b[1;33m\u001b[0m\u001b[1;33m\u001b[0m\u001b[0m\n\u001b[0;32m      3\u001b[0m \u001b[1;31m#boxplotparameter(\"styleflips\",\"style flips\",\"Number of style flips\")\u001b[0m\u001b[1;33m\u001b[0m\u001b[1;33m\u001b[0m\u001b[1;33m\u001b[0m\u001b[0m\n\u001b[1;32m----> 4\u001b[1;33m \u001b[0mboxplotparameter\u001b[0m\u001b[1;33m(\u001b[0m\u001b[1;34m\"alldistances\"\u001b[0m\u001b[1;33m,\u001b[0m\u001b[1;34m\"Fréchet distance\"\u001b[0m\u001b[1;33m,\u001b[0m\u001b[1;34m\"Fréchet Distances\"\u001b[0m\u001b[1;33m)\u001b[0m\u001b[1;33m\u001b[0m\u001b[1;33m\u001b[0m\u001b[0m\n\u001b[0m",
      "\u001b[1;32m<ipython-input-11-e63be2f9ece8>\u001b[0m in \u001b[0;36mboxplotparameter\u001b[1;34m(variable, label, title, ymin, ymax)\u001b[0m\n\u001b[0;32m      2\u001b[0m \u001b[1;33m\u001b[0m\u001b[0m\n\u001b[0;32m      3\u001b[0m     \u001b[0mlabels\u001b[0m \u001b[1;33m=\u001b[0m \u001b[1;33m[\u001b[0m\u001b[1;33m]\u001b[0m\u001b[1;33m\u001b[0m\u001b[1;33m\u001b[0m\u001b[0m\n\u001b[1;32m----> 4\u001b[1;33m     \u001b[1;32mfor\u001b[0m \u001b[0mlabel\u001b[0m \u001b[1;32min\u001b[0m \u001b[0malllabels\u001b[0m\u001b[1;33m:\u001b[0m\u001b[1;33m\u001b[0m\u001b[1;33m\u001b[0m\u001b[0m\n\u001b[0m\u001b[0;32m      5\u001b[0m         \u001b[0mlabels\u001b[0m\u001b[1;33m=\u001b[0m \u001b[0mlabels\u001b[0m\u001b[1;33m+\u001b[0m \u001b[1;33m[\u001b[0m\u001b[0mlabel\u001b[0m\u001b[1;33m,\u001b[0m\u001b[1;34m''\u001b[0m\u001b[1;33m]\u001b[0m\u001b[1;33m\u001b[0m\u001b[1;33m\u001b[0m\u001b[0m\n\u001b[0;32m      6\u001b[0m     \u001b[0mboxcolors\u001b[0m \u001b[1;33m=\u001b[0m \u001b[0mthecolors\u001b[0m\u001b[1;33m*\u001b[0m\u001b[0mlen\u001b[0m\u001b[1;33m(\u001b[0m\u001b[0mstrategies\u001b[0m\u001b[1;33m)\u001b[0m\u001b[1;33m\u001b[0m\u001b[1;33m\u001b[0m\u001b[0m\n",
      "\u001b[1;31mNameError\u001b[0m: name 'alllabels' is not defined"
     ]
    }
   ],
   "source": [
    "#boxplotparameter(\"allcrossings\",\"crossings\",\"Crossings\")\n",
    "#boxplotparameter(\"faceflips\",\"face flips\",\"Number of face flips\")\n",
    "#boxplotparameter(\"styleflips\",\"style flips\",\"Number of style flips\")\n",
    "boxplotparameter(\"alldistances\",\"Fréchet distance\",\"Fréchet Distances\")\n"
   ]
  },
  {
   "cell_type": "code",
   "execution_count": 7,
   "id": "8727c855",
   "metadata": {},
   "outputs": [
    {
     "name": "stdout",
     "output_type": "stream",
     "text": [
      "[922.0, 916.5, 914.0, 895.5, 857.0, 808.5, 821.0, 783.5, 847.5, 841.5, 830.0, 816.5, 814.0, 851.5, 836.0, 798.0, 742.0, 671.0, 654.0, 692.5, 697.0, 713.5, 792.0, 784.5, 753.5, 815.0, 745.0, 758.5, 787.5, 814.0, 755.5, 748.0, 753.5, 755.0, 774.0, 747.0, 733.0, 719.5, 792.0, 774.5, 722.0, 728.5, 744.5, 766.0, 768.5, 709.5, 701.0, 710.0, 717.5, 708.0, 707.0, 704.5, 717.5, 709.0, 716.0, 700.5, 696.0, 760.0, 755.5, 749.5, 752.0, 763.5, 760.0, 751.0, 754.0, 758.5, 760.0, 746.0, 766.0, 758.0, 769.0, 764.0, 699.5, 710.0, 707.0, 720.5, 713.0, 715.0, 689.0, 707.5, 704.0, 694.5, 684.0, 670.0, 673.5, 677.0, 699.0, 703.5, 682.0, 675.0, 689.0, 711.0, 762.5, 770.0, 755.0, 749.5, 741.0, 778.0, 764.0, 760.0, 732.0]\n"
     ]
    }
   ],
   "source": [
    "print(random_allcrossings[0]['octoradial_Randomgraph000_alongFaces'])"
   ]
  },
  {
   "cell_type": "code",
   "execution_count": null,
   "id": "59a87bf8",
   "metadata": {},
   "outputs": [],
   "source": []
  }
 ],
 "metadata": {
  "kernelspec": {
   "display_name": "Python 3",
   "language": "python",
   "name": "python3"
  },
  "language_info": {
   "codemirror_mode": {
    "name": "ipython",
    "version": 3
   },
   "file_extension": ".py",
   "mimetype": "text/x-python",
   "name": "python",
   "nbconvert_exporter": "python",
   "pygments_lexer": "ipython3",
   "version": "3.8.8"
  }
 },
 "nbformat": 4,
 "nbformat_minor": 5
}
