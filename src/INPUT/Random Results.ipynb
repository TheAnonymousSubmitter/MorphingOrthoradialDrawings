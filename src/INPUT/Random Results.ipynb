{
 "cells": [
  {
   "cell_type": "code",
   "execution_count": null,
   "id": "31d479b3",
   "metadata": {},
   "outputs": [],
   "source": [
    "import pickle"
   ]
  },
  {
   "cell_type": "code",
   "execution_count": null,
   "id": "aacf97fd",
   "metadata": {},
   "outputs": [],
   "source": [
    "lastindex = 14\n",
    "with open(f'pickle/faceflips{lastindex}.pkl', 'rb') as f:\n",
    "    random_faceflips = pickle.load(f)\n",
    "with open(f'pickle/styleflips{lastindex}.pkl', 'rb') as f:\n",
    "    random_styleflips = pickle.load(f)\n",
    "with open(f'pickle/alldistances{lastindex}.pkl', 'rb') as f:\n",
    "    random_alldistances = pickle.load(f)\n",
    "with open(f'pickle/allcrossings{lastindex}.pkl', 'rb') as f:\n",
    "    random_allcrossings = pickle.load(f)"
   ]
  },
  {
   "cell_type": "code",
   "execution_count": null,
   "id": "f2aa15a0",
   "metadata": {},
   "outputs": [],
   "source": []
  }
 ],
 "metadata": {
  "kernelspec": {
   "display_name": "Python 3 (ipykernel)",
   "language": "python",
   "name": "python3"
  }
 },
 "nbformat": 4,
 "nbformat_minor": 5
}
